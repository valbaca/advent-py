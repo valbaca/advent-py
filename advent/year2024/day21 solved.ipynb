{
 "cells": [
  {
   "cell_type": "markdown",
   "metadata": {},
   "source": [
    "No lie this one kicked my butt.\n",
    "I did look for a hint which ended up giving away what part 2 was going to be, which did help me reframe my thinking and come up with a solution.\n",
    "\n",
    "I had known it would come down to finding the \"minimum\" chunks and with small enough parts we can cache and greatly speed up...and we did!\n",
    "\n",
    "It's amazing how fast the correct part2 runs given how slow my initial part *1* was!"
   ]
  },
  {
   "cell_type": "code",
   "execution_count": 169,
   "metadata": {},
   "outputs": [],
   "source": [
    "from functools import cache"
   ]
  },
  {
   "cell_type": "code",
   "execution_count": 170,
   "metadata": {},
   "outputs": [],
   "source": [
    "num_paths = {\n",
    "    '7': {\n",
    "        '>': '8',\n",
    "        'v': '4',\n",
    "    },\n",
    "    '8': {\n",
    "        '>': '9',\n",
    "        'v': '5',\n",
    "        '<': '7',\n",
    "    },\n",
    "    '9': {\n",
    "        '<': '8',\n",
    "        'v': '6',\n",
    "    },\n",
    "    '4': {\n",
    "        '^': '7',\n",
    "        '>': '5',\n",
    "        'v': '1',\n",
    "    },\n",
    "    '5': {\n",
    "        '^': '8',\n",
    "        '<': '4',\n",
    "        '>': '6',\n",
    "        'v': '2',\n",
    "    },\n",
    "    '6': {\n",
    "        '^': '9',\n",
    "        '<': '5',\n",
    "        'v': '3',\n",
    "    },\n",
    "    '1': {\n",
    "        '^': '4',\n",
    "        '>': '2',\n",
    "    },\n",
    "    '2': {\n",
    "        '^': '5',\n",
    "        '<': '1',\n",
    "        '>': '3',\n",
    "        'v': '0',\n",
    "    },\n",
    "    '3': {\n",
    "        '^': '6',\n",
    "        '<': '2',\n",
    "        'v': 'A',\n",
    "    },\n",
    "    '0': {\n",
    "        '^': '2',\n",
    "        '>': 'A',\n",
    "    },\n",
    "    'A': {\n",
    "        '^': '3',\n",
    "        '<': '0',\n",
    "    },\n",
    "}\n",
    "\n",
    "dir_paths = {\n",
    "    '^': {\n",
    "        'v': 'v',\n",
    "        '>': 'A'\n",
    "    },\n",
    "    'A': {\n",
    "        '<': '^',\n",
    "        'v': '>'\n",
    "    },\n",
    "    '<': {\n",
    "        '>': 'v'\n",
    "    },\n",
    "    'v': {\n",
    "        '^': '^',\n",
    "        '<': '<',\n",
    "        '>': '>'\n",
    "    },\n",
    "    '>': {\n",
    "        '<': 'v',\n",
    "        '^': 'A'\n",
    "    }\n",
    "}"
   ]
  },
  {
   "cell_type": "code",
   "execution_count": 171,
   "metadata": {},
   "outputs": [],
   "source": [
    "from collections import deque\n",
    "@cache \n",
    "def path(s, d, num_pad=True) -> tuple[str, ...]:\n",
    "    if s == d:\n",
    "        return ('',) \n",
    "    paths = num_paths if num_pad else dir_paths\n",
    "    mn = None\n",
    "    soln = []\n",
    "    q = deque(paths[s].items())\n",
    "    # print(q)\n",
    "    while q:\n",
    "        p, c = q.popleft()\n",
    "        if mn is not None and len(p) > mn:\n",
    "            break\n",
    "        if c == d:\n",
    "            if len(soln) == 0:\n",
    "                soln.append(p)\n",
    "                mn = len(p)\n",
    "            else:\n",
    "                if len(p) < mn:\n",
    "                    soln = [p]\n",
    "                    mn = len(p)\n",
    "                elif len(p) == mn:\n",
    "                    soln.append(p)\n",
    "        else:\n",
    "            for k,v in paths[c].items():\n",
    "                q.append((p + k, v))\n",
    "            q = deque(sorted(q, key=lambda t: len(t[0])))\n",
    "    return tuple([s for s in soln])\n",
    "            \n",
    "            \n"
   ]
  },
  {
   "cell_type": "code",
   "execution_count": 172,
   "metadata": {},
   "outputs": [],
   "source": [
    "@cache\n",
    "def paths_for_code(code, num_pad=True) -> tuple[str,...]:\n",
    "    src = 'A'\n",
    "    que = ['']\n",
    "    for c in code:\n",
    "        paths = path(src, c, num_pad)\n",
    "        que = [q+p for q in que for p in paths]\n",
    "        src = c\n",
    "        que = [q+'A' for q in que]\n",
    "    min_len = min(len(q) for q in que)\n",
    "    return tuple([q for q in que if len(q) == min_len])"
   ]
  },
  {
   "cell_type": "code",
   "execution_count": 173,
   "metadata": {},
   "outputs": [
    {
     "data": {
      "text/plain": [
       "('<A^A^^>AvvvA', '<A^A^>^AvvvA', '<A^A>^^AvvvA')"
      ]
     },
     "execution_count": 173,
     "metadata": {},
     "output_type": "execute_result"
    }
   ],
   "source": [
    "pfc = paths_for_code('029A', True)\n",
    "pfc"
   ]
  },
  {
   "cell_type": "code",
   "execution_count": 174,
   "metadata": {},
   "outputs": [
    {
     "data": {
      "text/plain": [
       "28"
      ]
     },
     "execution_count": 174,
     "metadata": {},
     "output_type": "execute_result"
    }
   ],
   "source": [
    "pfc2 = paths_for_code(pfc[0], False)\n",
    "# pfc2\n",
    "min(len(s) for s in pfc2)"
   ]
  },
  {
   "cell_type": "code",
   "execution_count": 182,
   "metadata": {},
   "outputs": [],
   "source": [
    "@cache\n",
    "def slow_robots(code, n) -> int:\n",
    "    if n == 0:\n",
    "        return len(code)\n",
    "    paths = paths_for_code(code, False)\n",
    "    recur_paths = [slow_robots(p, n-1) for p in paths]\n",
    "    return min(recur_paths)"
   ]
  },
  {
   "cell_type": "code",
   "execution_count": 183,
   "metadata": {},
   "outputs": [],
   "source": [
    "@cache\n",
    "def robots(code, n) -> int:\n",
    "    if n == 0:\n",
    "        return len(code)\n",
    "    # split on \"A\" but keep the \"A\" (drop last because it's extra)\n",
    "    # ex: turns \"^^AvvA\" into [\"^^A\", \"vvA\"]\n",
    "    splits = [s + 'A' for s in code.split('A')][:-1]\n",
    "    # by breaking this into tiny chunks we can fully leverage @cache\n",
    "    ans = 0\n",
    "    for s in splits:\n",
    "        paths = paths_for_code(s, False)\n",
    "        ans += min(robots(p, n-1) for p in paths)\n",
    "    return ans"
   ]
  },
  {
   "cell_type": "code",
   "execution_count": 184,
   "metadata": {},
   "outputs": [],
   "source": [
    "import math\n",
    "def part1(code) -> int:\n",
    "    round1 = paths_for_code(code, True)\n",
    "    mn = math.inf\n",
    "    for r in round1:\n",
    "        mn = min(mn, robots(r, 2))\n",
    "    return mn * int(code[:-1])"
   ]
  },
  {
   "cell_type": "code",
   "execution_count": 185,
   "metadata": {},
   "outputs": [
    {
     "data": {
      "text/plain": [
       "126384"
      ]
     },
     "execution_count": 185,
     "metadata": {},
     "output_type": "execute_result"
    }
   ],
   "source": [
    "sum([part1(s) for s in \"\"\"029A\n",
    "980A\n",
    "179A\n",
    "456A\n",
    "379A\"\"\".splitlines()])"
   ]
  },
  {
   "cell_type": "code",
   "execution_count": 186,
   "metadata": {},
   "outputs": [
    {
     "data": {
      "text/plain": [
       "164960"
      ]
     },
     "execution_count": 186,
     "metadata": {},
     "output_type": "execute_result"
    }
   ],
   "source": [
    "sum([part1(s) for s in \"\"\"149A\n",
    "582A\n",
    "540A\n",
    "246A\n",
    "805A\"\"\".splitlines()])"
   ]
  },
  {
   "cell_type": "code",
   "execution_count": 187,
   "metadata": {},
   "outputs": [],
   "source": [
    "import math\n",
    "def part2(code) -> int:\n",
    "    round1 = paths_for_code(code, True)\n",
    "    mn = math.inf\n",
    "    for r in round1:\n",
    "        mn = min(mn, robots(r, 25))\n",
    "    return mn * int(code[:-1])"
   ]
  },
  {
   "cell_type": "code",
   "execution_count": 188,
   "metadata": {},
   "outputs": [
    {
     "data": {
      "text/plain": [
       "205620604017764"
      ]
     },
     "execution_count": 188,
     "metadata": {},
     "output_type": "execute_result"
    }
   ],
   "source": [
    "sum([part2(s) for s in \"\"\"149A\n",
    "582A\n",
    "540A\n",
    "246A\n",
    "805A\"\"\".splitlines()])"
   ]
  }
 ],
 "metadata": {
  "kernelspec": {
   "display_name": ".venv",
   "language": "python",
   "name": "python3"
  },
  "language_info": {
   "codemirror_mode": {
    "name": "ipython",
    "version": 3
   },
   "file_extension": ".py",
   "mimetype": "text/x-python",
   "name": "python",
   "nbconvert_exporter": "python",
   "pygments_lexer": "ipython3",
   "version": "3.12.9"
  }
 },
 "nbformat": 4,
 "nbformat_minor": 2
}
