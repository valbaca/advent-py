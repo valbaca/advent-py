{
 "cells": [
  {
   "cell_type": "code",
   "execution_count": null,
   "metadata": {},
   "outputs": [],
   "source": [
    "import sys \n",
    "sys.path.append(\"../../\")\n",
    "from advent import elf"
   ]
  },
  {
   "cell_type": "code",
   "execution_count": null,
   "metadata": {},
   "outputs": [],
   "source": [
    "from typing import Union\n",
    "\n",
    "class Secrets:\n",
    "    def __init__(self, n):\n",
    "        self.n = n # type: int\n",
    "        self.p = None # type: Union[None|list[int]]\n",
    "        self.pd = None # type; Union[None|list[int]]\n",
    "\n",
    "    def n_evolve(self, n_times: int):\n",
    "        for _ in range(n_times):\n",
    "            self.evolve()\n",
    "        return self.n\n",
    "\n",
    "    def calc_prices(self, n_times: int):\n",
    "        p = [self.n%10]\n",
    "        for _ in range(n_times):\n",
    "            self.evolve()\n",
    "            p.append(self.n%10)\n",
    "        self.p = p\n",
    "    \n",
    "    def calc_price_diffs(self, n_times: int):\n",
    "        self.calc_prices(n_times)\n",
    "        self.pd = [self.p[i] - self.p[i - 1] for i in range(1, len(self.p))]\n",
    "    \n",
    "    def calc_window_to_value(self):\n",
    "        \"\"\"creates a mapping of {windows: value} so we can do a quick lookup with the window string\"\"\"\n",
    "        self.w2v = {} # maps the 4-number window to the *first* value\n",
    "        rp = 4 # right pointer\n",
    "        while rp <= len(self.pd):\n",
    "            # key = str(self.pd[rp-4:rp]) # ex: \"-2,1,-1,3\"\n",
    "            key = \",\".join(str(x) for x in self.pd[rp-4:rp]) # ex: -2,1,-1,3\n",
    "            val = self.p[rp] # offset by one\n",
    "            if key in self.w2v:\n",
    "                pass # it sells when it *first* sees!! silly monkey\n",
    "            else:\n",
    "                self.w2v[key] = val\n",
    "            rp += 1\n",
    "    \n",
    "    def evolve(self):\n",
    "        res = self.n * 64\n",
    "        self.mix(res)\n",
    "        self.prune()\n",
    "        res = self.n // 32\n",
    "        self.mix(res)\n",
    "        self.prune()\n",
    "        res = self.n * 2048\n",
    "        self.mix(res)\n",
    "        self.prune()\n",
    "        return self.n\n",
    "    \n",
    "    def mix(self, x):\n",
    "        self.n = x ^ self.n\n",
    "    \n",
    "    def prune(self):\n",
    "        self.n = self.n % 16777216"
   ]
  },
  {
   "cell_type": "code",
   "execution_count": null,
   "metadata": {},
   "outputs": [],
   "source": [
    "sec = Secrets(123)\n",
    "for _ in range(10):\n",
    "    print(sec.evolve())"
   ]
  },
  {
   "cell_type": "code",
   "execution_count": null,
   "metadata": {},
   "outputs": [],
   "source": [
    "ans = 0\n",
    "for x in [1, 10, 100, 2024]:\n",
    "    sec = Secrets(x)\n",
    "    ans += sec.n_evolve(2000)\n",
    "ans"
   ]
  },
  {
   "cell_type": "code",
   "execution_count": 23,
   "metadata": {},
   "outputs": [],
   "source": [
    "lines = elf.read_lines(\"day22.txt\")\n",
    "xs = [int(line) for line in lines]"
   ]
  },
  {
   "cell_type": "code",
   "execution_count": null,
   "metadata": {},
   "outputs": [],
   "source": [
    "sum(Secrets(x).n_evolve(2000) for x in xs)"
   ]
  },
  {
   "cell_type": "code",
   "execution_count": null,
   "metadata": {},
   "outputs": [],
   "source": [
    "progress = None"
   ]
  },
  {
   "cell_type": "code",
   "execution_count": null,
   "metadata": {},
   "outputs": [],
   "source": [
    "def part2(xs):\n",
    "    secrets = [Secrets(x) for x in xs]\n",
    "    for s in secrets:\n",
    "        s.calc_price_diffs(2000)\n",
    "        s.calc_window_to_value() # precompute all the window strings to the *first* value\n",
    "    mx = 0\n",
    "    seen = set()\n",
    "    for s in secrets:\n",
    "        for k in s.w2v.keys(): # keys are the window strings, like \"-2,1,-1,3\"\n",
    "            if k in seen:\n",
    "                continue\n",
    "            else:\n",
    "                seen.add(k)\n",
    "            sm = sum(\n",
    "                s2.w2v.get(k, 0)\n",
    "                for s2 in secrets\n",
    "            )\n",
    "            mx = max(mx, sm)\n",
    "    return mx \n",
    "    "
   ]
  },
  {
   "cell_type": "code",
   "execution_count": 21,
   "metadata": {},
   "outputs": [],
   "source": [
    "xs = [1,2,3,2024]"
   ]
  },
  {
   "cell_type": "code",
   "execution_count": null,
   "metadata": {},
   "outputs": [
    {
     "data": {
      "text/plain": [
       "2423"
      ]
     },
     "execution_count": 24,
     "metadata": {},
     "output_type": "execute_result"
    }
   ],
   "source": [
    "part2(xs) # takes ~42s\n"
   ]
  }
 ],
 "metadata": {
  "kernelspec": {
   "display_name": ".venv",
   "language": "python",
   "name": "python3"
  },
  "language_info": {
   "codemirror_mode": {
    "name": "ipython",
    "version": 3
   },
   "file_extension": ".py",
   "mimetype": "text/x-python",
   "name": "python",
   "nbconvert_exporter": "python",
   "pygments_lexer": "ipython3",
   "version": "3.12.9"
  }
 },
 "nbformat": 4,
 "nbformat_minor": 2
}
