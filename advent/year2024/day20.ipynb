{
 "cells": [
  {
   "cell_type": "code",
   "execution_count": 7,
   "metadata": {},
   "outputs": [],
   "source": [
    "import sys\n",
    "# setup 'advent' on path\n",
    "sys.path.append('../../')\n",
    "from advent import elf\n",
    "from collections import defaultdict\n",
    "from math import inf\n",
    "from typing import Counter"
   ]
  },
  {
   "cell_type": "code",
   "execution_count": null,
   "metadata": {},
   "outputs": [],
   "source": []
  },
  {
   "cell_type": "code",
   "execution_count": 10,
   "metadata": {},
   "outputs": [],
   "source": [
    "test_lines = elf.read_lines('day20-test.txt')\n",
    "lines = elf.read_lines('day20.txt')"
   ]
  },
  {
   "cell_type": "code",
   "execution_count": null,
   "metadata": {},
   "outputs": [],
   "source": [
    "def calc_dists(lines):\n",
    "    grid = [list(line) for line in lines]\n",
    "    start = [(r,c) for r,c,v in elf.iter_grid(grid) if v == 'S'][0]\n",
    "    grid[start[0]][start[1]] = '.'\n",
    "    end = [(r,c) for r,c,v in elf.iter_grid(grid) if v == 'E'][0]\n",
    "    grid[end[0]][end[1]] = '.'\n",
    "\n",
    "    dij = elf.Dijkstra(grid)\n",
    "    dists = dij.dijkstra(start)\n",
    "    print(\"calculated distances...\")\n",
    "    return dists"
   ]
  },
  {
   "cell_type": "code",
   "execution_count": null,
   "metadata": {},
   "outputs": [
    {
     "name": "stdout",
     "output_type": "stream",
     "text": [
      "calculated distances...\n"
     ]
    }
   ],
   "source": [
    "dists = calc_dists(test_lines)"
   ]
  },
  {
   "cell_type": "code",
   "execution_count": null,
   "metadata": {},
   "outputs": [
    {
     "name": "stdout",
     "output_type": "stream",
     "text": [
      "calculated distances...\n"
     ]
    }
   ],
   "source": [
    "dists = calc_dists(lines)\n"
   ]
  },
  {
   "cell_type": "code",
   "execution_count": null,
   "metadata": {},
   "outputs": [
    {
     "name": "stdout",
     "output_type": "stream",
     "text": [
      "calculated cheats...\n"
     ]
    },
    {
     "data": {
      "text/plain": [
       "1490"
      ]
     },
     "execution_count": 39,
     "metadata": {},
     "output_type": "execute_result"
    }
   ],
   "source": [
    "# return elf.get(dists, end) # verified Dij still works\n",
    "min_saved = 100\n",
    "cheats_count = defaultdict(int)\n",
    "# cheats = 0\n",
    "# cheats = Counter()\n",
    "cheats = set()\n",
    "for r,c,d in elf.iter_grid(dists):\n",
    "    if d == inf: # cannot cheat FROM walls\n",
    "        continue\n",
    "    for dir in elf.DIRS:\n",
    "        r1 = r+dir[0]\n",
    "        c1 = c+dir[1]\n",
    "        if 0 <= r1 < len(dists) and 0 <= c1 < len(dists[r1]) \\\n",
    "            and dists[r1][c1] == inf: # only cheat through walls\n",
    "            r2, c2 = r+2*dir[0], c+2*dir[1]\n",
    "            # for dir2 in elf.DIRS:\n",
    "            #     r2 = r1+dir2[0]\n",
    "            #     c2 = c1+dir2[1]\n",
    "            if 0 <= r2 < len(dists) and 0 <= c2 < len(dists[r2]) \\\n",
    "                and dists[r2][c2] != inf: # cannot end on a wall\n",
    "                d2 = dists[r2][c2]\n",
    "                saved =  d - d2 - 2\n",
    "                if saved > 99:\n",
    "                    cheats.add(((r1,c1), (r2,c2)))\n",
    "                    cheats_count[saved] += 1\n",
    "                # if saved >= min_saved:\n",
    "                    # cheats += 1\n",
    "print(\"calculated cheats...\")\n",
    "len(cheats)\n",
    "# dict(sorted(cheats_count.items()))"
   ]
  },
  {
   "cell_type": "code",
   "execution_count": null,
   "metadata": {},
   "outputs": [
    {
     "name": "stdout",
     "output_type": "stream",
     "text": [
      "1011325\n"
     ]
    }
   ],
   "source": [
    "cheats = set()\n",
    "n = 20 # cheat len\n",
    "target = 100 # save at least 100 ps\n",
    "\n",
    "def check(r,c,d,r2,c2):\n",
    "    d2 = dists[r2][c2]\n",
    "    if d2 == inf:\n",
    "        return # don't end in a wall\n",
    "    md = abs(r-r2) + abs(c-c2) # manhattan distance\n",
    "    saved = (d2 - d) - md\n",
    "    if saved >= target:\n",
    "        cheats.add(((r,c), (r2,c2)))\n",
    "\n",
    "for r,c,d in elf.iter_grid(dists):\n",
    "    # for each position, look \"up\" (then left and right) up to the manhattan dist of n\n",
    "    if d == inf:\n",
    "        continue # skip starting from walls\n",
    "    \"\"\"\n",
    "    ...8...\n",
    "    ..657..\n",
    "    .21034.  # we're looking at 0, and goes in order of 123456789ABC except up to 20 \"around\"\n",
    "    ..A9B..\n",
    "    ...C...\n",
    "    \"\"\"\n",
    "    for rd in range(0, n+1):\n",
    "        r2 = r-rd # going up\n",
    "        if 0 <= r2 < len(dists):\n",
    "            for cd in range(0, n-rd+1):\n",
    "                c2 = c-cd # going left\n",
    "                if (0 <= c2 < len(dists[r2])):\n",
    "                    check(r,c,d,r2,c2)\n",
    "                c2 = c+cd # going right\n",
    "                if (0 <= c2 < len(dists[r2])):\n",
    "                    check(r,c,d,r2,c2)\n",
    "        r2 = r+rd # going down\n",
    "        if 0 <= r2 < len(dists):\n",
    "            for cd in range(0, n-rd+1):\n",
    "                c2 = c-cd # going left\n",
    "                if (0 <= c2 < len(dists[r2])):\n",
    "                    check(r,c,d,r2,c2)\n",
    "                c2 = c+cd # going right\n",
    "                if (0 <= c2 < len(dists[r2])):\n",
    "                    check(r,c,d,r2,c2)\n",
    "print(len(cheats))"
   ]
  },
  {
   "cell_type": "code",
   "execution_count": null,
   "metadata": {},
   "outputs": [],
   "source": []
  }
 ],
 "metadata": {
  "kernelspec": {
   "display_name": ".venv",
   "language": "python",
   "name": "python3"
  },
  "language_info": {
   "codemirror_mode": {
    "name": "ipython",
    "version": 3
   },
   "file_extension": ".py",
   "mimetype": "text/x-python",
   "name": "python",
   "nbconvert_exporter": "python",
   "pygments_lexer": "ipython3",
   "version": "3.12.9"
  }
 },
 "nbformat": 4,
 "nbformat_minor": 2
}
