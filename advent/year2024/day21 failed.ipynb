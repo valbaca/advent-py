{
 "cells": [
  {
   "cell_type": "code",
   "execution_count": 1,
   "metadata": {},
   "outputs": [],
   "source": [
    "from functools import cache"
   ]
  },
  {
   "cell_type": "code",
   "execution_count": 2,
   "metadata": {},
   "outputs": [],
   "source": [
    "num_paths = {\n",
    "    '7': {\n",
    "        '>': '8',\n",
    "        'v': '4',\n",
    "    },\n",
    "    '8': {\n",
    "        '>': '9',\n",
    "        'v': '5',\n",
    "        '<': '7',\n",
    "    },\n",
    "    '9': {\n",
    "        '<': '8',\n",
    "        'v': '6',\n",
    "    },\n",
    "    '4': {\n",
    "        '^': '7',\n",
    "        '>': '5',\n",
    "        'v': '1',\n",
    "    },\n",
    "    '5': {\n",
    "        '^': '8',\n",
    "        '>': '6',\n",
    "        'v': '2',\n",
    "        '<': '4',\n",
    "    },\n",
    "    '6': {\n",
    "        '^': '9',\n",
    "        'v': '3',\n",
    "        '<': '5',\n",
    "    },\n",
    "    '1': {\n",
    "        '^': '4',\n",
    "        '>': '2',\n",
    "    },\n",
    "    '2': {\n",
    "        '^': '5',\n",
    "        '>': '3',\n",
    "        'v': '0',\n",
    "        '<': '1',\n",
    "    },\n",
    "    '3': {\n",
    "        '^': '6',\n",
    "        'v': 'A',\n",
    "        '<': '2',\n",
    "    },\n",
    "    '0': {\n",
    "        '^': '2',\n",
    "        '>': 'A',\n",
    "    },\n",
    "    'A': {\n",
    "        '^': '3',\n",
    "        '<': '0',\n",
    "    },\n",
    "}\n",
    "\n",
    "dir_paths = {\n",
    "    '^': {\n",
    "        '>': 'A',\n",
    "        'v': 'v'\n",
    "    },\n",
    "    'A': {\n",
    "        '<': '^',\n",
    "        'v': '>'\n",
    "    },\n",
    "    '<': {\n",
    "        '>': 'v'\n",
    "    },\n",
    "    'v': {\n",
    "        '^': '^',\n",
    "        '<': '<',\n",
    "        '>': '>'\n",
    "    },\n",
    "    '>': {\n",
    "        '^': 'A',\n",
    "        '<': 'v'\n",
    "    }\n",
    "}"
   ]
  },
  {
   "cell_type": "code",
   "execution_count": 3,
   "metadata": {},
   "outputs": [],
   "source": [
    "from collections import deque\n",
    "@cache \n",
    "def path(s, d, num_pad=True) -> tuple[str]:\n",
    "    if s == d:\n",
    "        return ([''])\n",
    "    paths = None\n",
    "    if num_pad:\n",
    "        paths = num_paths\n",
    "    else:\n",
    "        paths = dir_paths\n",
    "    soln = []\n",
    "    mn = None\n",
    "    q = deque(paths[s].keys())\n",
    "    while q:\n",
    "        n = q.popleft()\n",
    "        # print(f\"q={q} n={n} mn={mn}\")\n",
    "        if mn is not None and len(n) > mn:\n",
    "            continue\n",
    "        # step into the path\n",
    "        at = s\n",
    "        for c in n:\n",
    "            at = paths[at][c]\n",
    "        if at == d:\n",
    "            if len(soln) == 0:\n",
    "                soln.append(n)\n",
    "                mn = len(n)\n",
    "            else:\n",
    "                if len(n) < mn:\n",
    "                    soln = [n]\n",
    "                    mn = len(n)\n",
    "                elif len(n) == mn:\n",
    "                    soln.append(n)\n",
    "        else:\n",
    "            for k in paths[at].keys():\n",
    "                q.append(n + k)\n",
    "    return tuple([s for s in soln])\n",
    "            \n",
    "            \n"
   ]
  },
  {
   "cell_type": "code",
   "execution_count": 4,
   "metadata": {},
   "outputs": [],
   "source": [
    "# @cache\n",
    "def solve(code, num_pad=True):\n",
    "    src = 'A'\n",
    "    q = ['']\n",
    "    for c in code:\n",
    "        # prev to button\n",
    "        paths = path(src, c, num_pad)\n",
    "        if not paths:\n",
    "            raise Exception(f\"no path from {src=} to {c=}\")\n",
    "        q = [\n",
    "            s + p\n",
    "            for s in q\n",
    "            for p in paths\n",
    "        ]\n",
    "        q = list(set([\n",
    "            s\n",
    "            for s in q\n",
    "            if len(s) == min([len(r) for r in q])\n",
    "        ]))\n",
    "        # print(q)\n",
    "        #s += path(src, c, num_pad)[0]\n",
    "        src = c\n",
    "        # button to A\n",
    "        q = [s+'A' for s in q]\n",
    "    return tuple(sorted(q))"
   ]
  },
  {
   "cell_type": "code",
   "execution_count": 5,
   "metadata": {},
   "outputs": [],
   "source": [
    "def flatten(xss):\n",
    "    return [x\n",
    "            for xs in xss\n",
    "            for x in xs]"
   ]
  },
  {
   "cell_type": "code",
   "execution_count": 6,
   "metadata": {},
   "outputs": [],
   "source": [
    "def shortest(xs):\n",
    "    return min([len(x) for x in xs]) if xs else None"
   ]
  },
  {
   "cell_type": "code",
   "execution_count": 13,
   "metadata": {},
   "outputs": [],
   "source": [
    "from math import inf\n",
    "import random\n",
    "def wrapper(code):\n",
    "    a = solve(code)\n",
    "    b = flatten([solve(x, num_pad=False) for x in a])\n",
    "    shortest_b = shortest(b)\n",
    "    b = [x for x in b if len(x) == shortest_b]\n",
    "    b = random.sample(b, min(len(b), 10))\n",
    "    # b = list(set(b))\n",
    "    mn = inf\n",
    "    for x in b:\n",
    "        c = solve(x, num_pad=False)\n",
    "        mn = min(mn, shortest(c))\n",
    "        # print(mn)\n",
    "        print(f\"{code=} {mn=}\", end='\\r')\n",
    "    return mn"
   ]
  },
  {
   "cell_type": "code",
   "execution_count": null,
   "metadata": {},
   "outputs": [],
   "source": []
  },
  {
   "cell_type": "code",
   "execution_count": 8,
   "metadata": {},
   "outputs": [
    {
     "name": "stdout",
     "output_type": "stream",
     "text": [
      "code='029A' mn=68\r"
     ]
    },
    {
     "ename": "KeyboardInterrupt",
     "evalue": "",
     "output_type": "error",
     "traceback": [
      "\u001b[31m---------------------------------------------------------------------------\u001b[39m",
      "\u001b[31mKeyboardInterrupt\u001b[39m                         Traceback (most recent call last)",
      "\u001b[36mCell\u001b[39m\u001b[36m \u001b[39m\u001b[32mIn[8]\u001b[39m\u001b[32m, line 1\u001b[39m\n\u001b[32m----> \u001b[39m\u001b[32m1\u001b[39m \u001b[43mwrapper\u001b[49m\u001b[43m(\u001b[49m\u001b[33;43m'\u001b[39;49m\u001b[33;43m029A\u001b[39;49m\u001b[33;43m'\u001b[39;49m\u001b[43m)\u001b[49m\n",
      "\u001b[36mCell\u001b[39m\u001b[36m \u001b[39m\u001b[32mIn[7]\u001b[39m\u001b[32m, line 12\u001b[39m, in \u001b[36mwrapper\u001b[39m\u001b[34m(code)\u001b[39m\n\u001b[32m     10\u001b[39m mn = inf\n\u001b[32m     11\u001b[39m \u001b[38;5;28;01mfor\u001b[39;00m x \u001b[38;5;129;01min\u001b[39;00m b:\n\u001b[32m---> \u001b[39m\u001b[32m12\u001b[39m     c = \u001b[43msolve\u001b[49m\u001b[43m(\u001b[49m\u001b[43mx\u001b[49m\u001b[43m,\u001b[49m\u001b[43m \u001b[49m\u001b[43mnum_pad\u001b[49m\u001b[43m=\u001b[49m\u001b[38;5;28;43;01mFalse\u001b[39;49;00m\u001b[43m)\u001b[49m\n\u001b[32m     13\u001b[39m     mn = \u001b[38;5;28mmin\u001b[39m(mn, shortest(c))\n\u001b[32m     14\u001b[39m     \u001b[38;5;66;03m# print(mn)\u001b[39;00m\n",
      "\u001b[36mCell\u001b[39m\u001b[36m \u001b[39m\u001b[32mIn[4]\u001b[39m\u001b[32m, line 18\u001b[39m, in \u001b[36msolve\u001b[39m\u001b[34m(code, num_pad)\u001b[39m\n\u001b[32m      9\u001b[39m     \u001b[38;5;28;01mraise\u001b[39;00m \u001b[38;5;167;01mException\u001b[39;00m(\u001b[33mf\u001b[39m\u001b[33m\"\u001b[39m\u001b[33mno path from \u001b[39m\u001b[38;5;132;01m{\u001b[39;00msrc\u001b[38;5;132;01m=}\u001b[39;00m\u001b[33m to \u001b[39m\u001b[38;5;132;01m{\u001b[39;00mc\u001b[38;5;132;01m=}\u001b[39;00m\u001b[33m\"\u001b[39m)\n\u001b[32m     10\u001b[39m q = [\n\u001b[32m     11\u001b[39m     s + p\n\u001b[32m     12\u001b[39m     \u001b[38;5;28;01mfor\u001b[39;00m s \u001b[38;5;129;01min\u001b[39;00m q\n\u001b[32m     13\u001b[39m     \u001b[38;5;28;01mfor\u001b[39;00m p \u001b[38;5;129;01min\u001b[39;00m paths\n\u001b[32m     14\u001b[39m ]\n\u001b[32m     15\u001b[39m q = \u001b[38;5;28mlist\u001b[39m(\u001b[38;5;28mset\u001b[39m([\n\u001b[32m     16\u001b[39m     s\n\u001b[32m     17\u001b[39m     \u001b[38;5;28;01mfor\u001b[39;00m s \u001b[38;5;129;01min\u001b[39;00m q\n\u001b[32m---> \u001b[39m\u001b[32m18\u001b[39m     \u001b[38;5;28;01mif\u001b[39;00m \u001b[38;5;28mlen\u001b[39m(s) == \u001b[38;5;28mmin\u001b[39m([\u001b[38;5;28mlen\u001b[39m(r) \u001b[38;5;28;01mfor\u001b[39;00m r \u001b[38;5;129;01min\u001b[39;00m q])\n\u001b[32m     19\u001b[39m ]))\n\u001b[32m     20\u001b[39m \u001b[38;5;66;03m# print(q)\u001b[39;00m\n\u001b[32m     21\u001b[39m \u001b[38;5;66;03m#s += path(src, c, num_pad)[0]\u001b[39;00m\n\u001b[32m     22\u001b[39m src = c\n",
      "\u001b[31mKeyboardInterrupt\u001b[39m: "
     ]
    }
   ],
   "source": [
    "wrapper('029A')"
   ]
  },
  {
   "cell_type": "code",
   "execution_count": 9,
   "metadata": {},
   "outputs": [
    {
     "name": "stdout",
     "output_type": "stream",
     "text": [
      "code='029A' mn=68\r"
     ]
    },
    {
     "ename": "KeyboardInterrupt",
     "evalue": "",
     "output_type": "error",
     "traceback": [
      "\u001b[31m---------------------------------------------------------------------------\u001b[39m",
      "\u001b[31mKeyboardInterrupt\u001b[39m                         Traceback (most recent call last)",
      "\u001b[36mCell\u001b[39m\u001b[36m \u001b[39m\u001b[32mIn[9]\u001b[39m\u001b[32m, line 2\u001b[39m\n\u001b[32m      1\u001b[39m [\u001b[33m'\u001b[39m\u001b[33m029A\u001b[39m\u001b[33m'\u001b[39m,\n\u001b[32m----> \u001b[39m\u001b[32m2\u001b[39m \u001b[43mwrapper\u001b[49m\u001b[43m(\u001b[49m\u001b[33;43m'\u001b[39;49m\u001b[33;43m029A\u001b[39;49m\u001b[33;43m'\u001b[39;49m\u001b[43m)\u001b[49m,\n\u001b[32m      3\u001b[39m \u001b[38;5;28mlen\u001b[39m(\u001b[33m'\u001b[39m\u001b[33m<vA<AA>>^AvAA<^A>A<v<A>>^AvA^A<vA>^A<v<A>^A>AAvA^A<v<A>A>^AAAvA<^A>A\u001b[39m\u001b[33m'\u001b[39m),\n\u001b[32m      4\u001b[39m \u001b[33m'\u001b[39m\u001b[33m980A\u001b[39m\u001b[33m'\u001b[39m,\n\u001b[32m      5\u001b[39m wrapper(\u001b[33m'\u001b[39m\u001b[33m980A\u001b[39m\u001b[33m'\u001b[39m),\n\u001b[32m      6\u001b[39m \u001b[38;5;28mlen\u001b[39m(\u001b[33m'\u001b[39m\u001b[33m<v<A>>^AAAvA^A<vA<AA>>^AvAA<^A>A<v<A>A>^AAAvA<^A>A<vA>^A<A>A\u001b[39m\u001b[33m'\u001b[39m),\n\u001b[32m      7\u001b[39m \u001b[33m'\u001b[39m\u001b[33m179A\u001b[39m\u001b[33m'\u001b[39m,\n\u001b[32m      8\u001b[39m wrapper(\u001b[33m'\u001b[39m\u001b[33m179A\u001b[39m\u001b[33m'\u001b[39m),\n\u001b[32m      9\u001b[39m \u001b[38;5;28mlen\u001b[39m(\u001b[33m'\u001b[39m\u001b[33m<v<A>>^A<vA<A>>^AAvAA<^A>A<v<A>>^AAvA^A<vA>^AA<A>A<v<A>A>^AAAvA<^A>A\u001b[39m\u001b[33m'\u001b[39m),\n\u001b[32m     10\u001b[39m \u001b[33m'\u001b[39m\u001b[33m456A\u001b[39m\u001b[33m'\u001b[39m,\n\u001b[32m     11\u001b[39m wrapper(\u001b[33m'\u001b[39m\u001b[33m456A\u001b[39m\u001b[33m'\u001b[39m),\n\u001b[32m     12\u001b[39m \u001b[38;5;28mlen\u001b[39m(\u001b[33m'\u001b[39m\u001b[33m<v<A>>^AA<vA<A>>^AAvAA<^A>A<vA>^A<A>A<vA>^A<A>A<v<A>A>^AAvA<^A>A\u001b[39m\u001b[33m'\u001b[39m),\n\u001b[32m     13\u001b[39m \u001b[33m'\u001b[39m\u001b[33m379A\u001b[39m\u001b[33m'\u001b[39m,\n\u001b[32m     14\u001b[39m wrapper(\u001b[33m'\u001b[39m\u001b[33m379A\u001b[39m\u001b[33m'\u001b[39m),\n\u001b[32m     15\u001b[39m \u001b[38;5;28mlen\u001b[39m(\u001b[33m'\u001b[39m\u001b[33m<v<A>>^AvA^A<vA<AA>>^AAvA<^A>AAvA^A<vA>^AA<A>A<v<A>A>^AAAvA<^A>A\u001b[39m\u001b[33m'\u001b[39m)\n\u001b[32m     16\u001b[39m ]\n",
      "\u001b[36mCell\u001b[39m\u001b[36m \u001b[39m\u001b[32mIn[7]\u001b[39m\u001b[32m, line 12\u001b[39m, in \u001b[36mwrapper\u001b[39m\u001b[34m(code)\u001b[39m\n\u001b[32m     10\u001b[39m mn = inf\n\u001b[32m     11\u001b[39m \u001b[38;5;28;01mfor\u001b[39;00m x \u001b[38;5;129;01min\u001b[39;00m b:\n\u001b[32m---> \u001b[39m\u001b[32m12\u001b[39m     c = \u001b[43msolve\u001b[49m\u001b[43m(\u001b[49m\u001b[43mx\u001b[49m\u001b[43m,\u001b[49m\u001b[43m \u001b[49m\u001b[43mnum_pad\u001b[49m\u001b[43m=\u001b[49m\u001b[38;5;28;43;01mFalse\u001b[39;49;00m\u001b[43m)\u001b[49m\n\u001b[32m     13\u001b[39m     mn = \u001b[38;5;28mmin\u001b[39m(mn, shortest(c))\n\u001b[32m     14\u001b[39m     \u001b[38;5;66;03m# print(mn)\u001b[39;00m\n",
      "\u001b[36mCell\u001b[39m\u001b[36m \u001b[39m\u001b[32mIn[4]\u001b[39m\u001b[32m, line 18\u001b[39m, in \u001b[36msolve\u001b[39m\u001b[34m(code, num_pad)\u001b[39m\n\u001b[32m      9\u001b[39m     \u001b[38;5;28;01mraise\u001b[39;00m \u001b[38;5;167;01mException\u001b[39;00m(\u001b[33mf\u001b[39m\u001b[33m\"\u001b[39m\u001b[33mno path from \u001b[39m\u001b[38;5;132;01m{\u001b[39;00msrc\u001b[38;5;132;01m=}\u001b[39;00m\u001b[33m to \u001b[39m\u001b[38;5;132;01m{\u001b[39;00mc\u001b[38;5;132;01m=}\u001b[39;00m\u001b[33m\"\u001b[39m)\n\u001b[32m     10\u001b[39m q = [\n\u001b[32m     11\u001b[39m     s + p\n\u001b[32m     12\u001b[39m     \u001b[38;5;28;01mfor\u001b[39;00m s \u001b[38;5;129;01min\u001b[39;00m q\n\u001b[32m     13\u001b[39m     \u001b[38;5;28;01mfor\u001b[39;00m p \u001b[38;5;129;01min\u001b[39;00m paths\n\u001b[32m     14\u001b[39m ]\n\u001b[32m     15\u001b[39m q = \u001b[38;5;28mlist\u001b[39m(\u001b[38;5;28mset\u001b[39m([\n\u001b[32m     16\u001b[39m     s\n\u001b[32m     17\u001b[39m     \u001b[38;5;28;01mfor\u001b[39;00m s \u001b[38;5;129;01min\u001b[39;00m q\n\u001b[32m---> \u001b[39m\u001b[32m18\u001b[39m     \u001b[38;5;28;01mif\u001b[39;00m \u001b[38;5;28mlen\u001b[39m(s) == \u001b[38;5;28;43mmin\u001b[39;49m\u001b[43m(\u001b[49m\u001b[43m[\u001b[49m\u001b[38;5;28;43mlen\u001b[39;49m\u001b[43m(\u001b[49m\u001b[43mr\u001b[49m\u001b[43m)\u001b[49m\u001b[43m \u001b[49m\u001b[38;5;28;43;01mfor\u001b[39;49;00m\u001b[43m \u001b[49m\u001b[43mr\u001b[49m\u001b[43m \u001b[49m\u001b[38;5;129;43;01min\u001b[39;49;00m\u001b[43m \u001b[49m\u001b[43mq\u001b[49m\u001b[43m]\u001b[49m\u001b[43m)\u001b[49m\n\u001b[32m     19\u001b[39m ]))\n\u001b[32m     20\u001b[39m \u001b[38;5;66;03m# print(q)\u001b[39;00m\n\u001b[32m     21\u001b[39m \u001b[38;5;66;03m#s += path(src, c, num_pad)[0]\u001b[39;00m\n\u001b[32m     22\u001b[39m src = c\n",
      "\u001b[31mKeyboardInterrupt\u001b[39m: "
     ]
    }
   ],
   "source": [
    "['029A',\n",
    "wrapper('029A'),\n",
    "len('<vA<AA>>^AvAA<^A>A<v<A>>^AvA^A<vA>^A<v<A>^A>AAvA^A<v<A>A>^AAAvA<^A>A'),\n",
    "'980A',\n",
    "wrapper('980A'),\n",
    "len('<v<A>>^AAAvA^A<vA<AA>>^AvAA<^A>A<v<A>A>^AAAvA<^A>A<vA>^A<A>A'),\n",
    "'179A',\n",
    "wrapper('179A'),\n",
    "len('<v<A>>^A<vA<A>>^AAvAA<^A>A<v<A>>^AAvA^A<vA>^AA<A>A<v<A>A>^AAAvA<^A>A'),\n",
    "'456A',\n",
    "wrapper('456A'),\n",
    "len('<v<A>>^AA<vA<A>>^AAvAA<^A>A<vA>^A<A>A<vA>^A<A>A<v<A>A>^AAvA<^A>A'),\n",
    "'379A',\n",
    "wrapper('379A'),\n",
    "len('<v<A>>^AvA^A<vA<AA>>^AAvA<^A>AAvA^A<vA>^AA<A>A<v<A>A>^AAAvA<^A>A')\n",
    "]"
   ]
  },
  {
   "cell_type": "code",
   "execution_count": 10,
   "metadata": {},
   "outputs": [],
   "source": [
    "def score(code):\n",
    "    n = wrapper(code)\n",
    "    return n * int(code[:-1])"
   ]
  },
  {
   "cell_type": "code",
   "execution_count": 14,
   "metadata": {},
   "outputs": [
    {
     "name": "stdout",
     "output_type": "stream",
     "text": [
      "code='379A' mn=64\r"
     ]
    },
    {
     "data": {
      "text/plain": [
       "126384"
      ]
     },
     "execution_count": 14,
     "metadata": {},
     "output_type": "execute_result"
    }
   ],
   "source": [
    "sum([score(code) for code in [\n",
    "'029A',\n",
    "'980A',\n",
    "'179A',\n",
    "'456A',\n",
    "'379A'\n",
    "]])"
   ]
  },
  {
   "cell_type": "code",
   "execution_count": 15,
   "metadata": {},
   "outputs": [
    {
     "name": "stdout",
     "output_type": "stream",
     "text": [
      "code='540A' mn=74\r"
     ]
    },
    {
     "ename": "KeyboardInterrupt",
     "evalue": "",
     "output_type": "error",
     "traceback": [
      "\u001b[31m---------------------------------------------------------------------------\u001b[39m",
      "\u001b[31mKeyboardInterrupt\u001b[39m                         Traceback (most recent call last)",
      "\u001b[36mCell\u001b[39m\u001b[36m \u001b[39m\u001b[32mIn[15]\u001b[39m\u001b[32m, line 1\u001b[39m\n\u001b[32m----> \u001b[39m\u001b[32m1\u001b[39m \u001b[38;5;28msum\u001b[39m([\u001b[43mscore\u001b[49m\u001b[43m(\u001b[49m\u001b[43mcode\u001b[49m\u001b[43m)\u001b[49m \u001b[38;5;28;01mfor\u001b[39;00m code \u001b[38;5;129;01min\u001b[39;00m [\n\u001b[32m      2\u001b[39m \u001b[33m'\u001b[39m\u001b[33m149A\u001b[39m\u001b[33m'\u001b[39m,\n\u001b[32m      3\u001b[39m \u001b[33m'\u001b[39m\u001b[33m582A\u001b[39m\u001b[33m'\u001b[39m,\n\u001b[32m      4\u001b[39m \u001b[33m'\u001b[39m\u001b[33m540A\u001b[39m\u001b[33m'\u001b[39m,\n\u001b[32m      5\u001b[39m \u001b[33m'\u001b[39m\u001b[33m246A\u001b[39m\u001b[33m'\u001b[39m,\n\u001b[32m      6\u001b[39m \u001b[33m'\u001b[39m\u001b[33m805A\u001b[39m\u001b[33m'\u001b[39m,\n\u001b[32m      7\u001b[39m ]])\n",
      "\u001b[36mCell\u001b[39m\u001b[36m \u001b[39m\u001b[32mIn[10]\u001b[39m\u001b[32m, line 2\u001b[39m, in \u001b[36mscore\u001b[39m\u001b[34m(code)\u001b[39m\n\u001b[32m      1\u001b[39m \u001b[38;5;28;01mdef\u001b[39;00m\u001b[38;5;250m \u001b[39m\u001b[34mscore\u001b[39m(code):\n\u001b[32m----> \u001b[39m\u001b[32m2\u001b[39m     n = \u001b[43mwrapper\u001b[49m\u001b[43m(\u001b[49m\u001b[43mcode\u001b[49m\u001b[43m)\u001b[49m\n\u001b[32m      3\u001b[39m     \u001b[38;5;28;01mreturn\u001b[39;00m n * \u001b[38;5;28mint\u001b[39m(code[:-\u001b[32m1\u001b[39m])\n",
      "\u001b[36mCell\u001b[39m\u001b[36m \u001b[39m\u001b[32mIn[13]\u001b[39m\u001b[32m, line 12\u001b[39m, in \u001b[36mwrapper\u001b[39m\u001b[34m(code)\u001b[39m\n\u001b[32m     10\u001b[39m mn = inf\n\u001b[32m     11\u001b[39m \u001b[38;5;28;01mfor\u001b[39;00m x \u001b[38;5;129;01min\u001b[39;00m b:\n\u001b[32m---> \u001b[39m\u001b[32m12\u001b[39m     c = \u001b[43msolve\u001b[49m\u001b[43m(\u001b[49m\u001b[43mx\u001b[49m\u001b[43m,\u001b[49m\u001b[43m \u001b[49m\u001b[43mnum_pad\u001b[49m\u001b[43m=\u001b[49m\u001b[38;5;28;43;01mFalse\u001b[39;49;00m\u001b[43m)\u001b[49m\n\u001b[32m     13\u001b[39m     mn = \u001b[38;5;28mmin\u001b[39m(mn, shortest(c))\n\u001b[32m     14\u001b[39m     \u001b[38;5;66;03m# print(mn)\u001b[39;00m\n",
      "\u001b[36mCell\u001b[39m\u001b[36m \u001b[39m\u001b[32mIn[4]\u001b[39m\u001b[32m, line 18\u001b[39m, in \u001b[36msolve\u001b[39m\u001b[34m(code, num_pad)\u001b[39m\n\u001b[32m      9\u001b[39m     \u001b[38;5;28;01mraise\u001b[39;00m \u001b[38;5;167;01mException\u001b[39;00m(\u001b[33mf\u001b[39m\u001b[33m\"\u001b[39m\u001b[33mno path from \u001b[39m\u001b[38;5;132;01m{\u001b[39;00msrc\u001b[38;5;132;01m=}\u001b[39;00m\u001b[33m to \u001b[39m\u001b[38;5;132;01m{\u001b[39;00mc\u001b[38;5;132;01m=}\u001b[39;00m\u001b[33m\"\u001b[39m)\n\u001b[32m     10\u001b[39m q = [\n\u001b[32m     11\u001b[39m     s + p\n\u001b[32m     12\u001b[39m     \u001b[38;5;28;01mfor\u001b[39;00m s \u001b[38;5;129;01min\u001b[39;00m q\n\u001b[32m     13\u001b[39m     \u001b[38;5;28;01mfor\u001b[39;00m p \u001b[38;5;129;01min\u001b[39;00m paths\n\u001b[32m     14\u001b[39m ]\n\u001b[32m     15\u001b[39m q = \u001b[38;5;28mlist\u001b[39m(\u001b[38;5;28mset\u001b[39m([\n\u001b[32m     16\u001b[39m     s\n\u001b[32m     17\u001b[39m     \u001b[38;5;28;01mfor\u001b[39;00m s \u001b[38;5;129;01min\u001b[39;00m q\n\u001b[32m---> \u001b[39m\u001b[32m18\u001b[39m     \u001b[38;5;28;01mif\u001b[39;00m \u001b[38;5;28mlen\u001b[39m(s) == \u001b[38;5;28mmin\u001b[39m([\u001b[38;5;28mlen\u001b[39m(r) \u001b[38;5;28;01mfor\u001b[39;00m r \u001b[38;5;129;01min\u001b[39;00m q])\n\u001b[32m     19\u001b[39m ]))\n\u001b[32m     20\u001b[39m \u001b[38;5;66;03m# print(q)\u001b[39;00m\n\u001b[32m     21\u001b[39m \u001b[38;5;66;03m#s += path(src, c, num_pad)[0]\u001b[39;00m\n\u001b[32m     22\u001b[39m src = c\n",
      "\u001b[31mKeyboardInterrupt\u001b[39m: "
     ]
    }
   ],
   "source": [
    "sum([score(code) for code in [\n",
    "'149A',\n",
    "'582A',\n",
    "'540A',\n",
    "'246A',\n",
    "'805A',\n",
    "]])"
   ]
  },
  {
   "cell_type": "code",
   "execution_count": null,
   "metadata": {},
   "outputs": [],
   "source": []
  }
 ],
 "metadata": {
  "kernelspec": {
   "display_name": ".venv",
   "language": "python",
   "name": "python3"
  },
  "language_info": {
   "codemirror_mode": {
    "name": "ipython",
    "version": 3
   },
   "file_extension": ".py",
   "mimetype": "text/x-python",
   "name": "python",
   "nbconvert_exporter": "python",
   "pygments_lexer": "ipython3",
   "version": "3.12.9"
  }
 },
 "nbformat": 4,
 "nbformat_minor": 2
}
